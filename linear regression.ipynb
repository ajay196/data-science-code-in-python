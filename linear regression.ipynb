{
 "cells": [
  {
   "cell_type": "code",
   "execution_count": 1,
   "metadata": {},
   "outputs": [
    {
     "name": "stderr",
     "output_type": "stream",
     "text": [
      "<frozen importlib._bootstrap>:219: RuntimeWarning: numpy.ufunc size changed, may indicate binary incompatibility. Expected 192 from C header, got 216 from PyObject\n"
     ]
    }
   ],
   "source": [
    "from sklearn import datasets"
   ]
  },
  {
   "cell_type": "code",
   "execution_count": 2,
   "metadata": {},
   "outputs": [],
   "source": [
    "df=datasets.load_diabetes()"
   ]
  },
  {
   "cell_type": "code",
   "execution_count": 3,
   "metadata": {},
   "outputs": [
    {
     "data": {
      "text/plain": [
       "{'data': array([[ 0.03807591,  0.05068012,  0.06169621, ..., -0.00259226,\n",
       "          0.01990842, -0.01764613],\n",
       "        [-0.00188202, -0.04464164, -0.05147406, ..., -0.03949338,\n",
       "         -0.06832974, -0.09220405],\n",
       "        [ 0.08529891,  0.05068012,  0.04445121, ..., -0.00259226,\n",
       "          0.00286377, -0.02593034],\n",
       "        ...,\n",
       "        [ 0.04170844,  0.05068012, -0.01590626, ..., -0.01107952,\n",
       "         -0.04687948,  0.01549073],\n",
       "        [-0.04547248, -0.04464164,  0.03906215, ...,  0.02655962,\n",
       "          0.04452837, -0.02593034],\n",
       "        [-0.04547248, -0.04464164, -0.0730303 , ..., -0.03949338,\n",
       "         -0.00421986,  0.00306441]]),\n",
       " 'target': array([151.,  75., 141., 206., 135.,  97., 138.,  63., 110., 310., 101.,\n",
       "         69., 179., 185., 118., 171., 166., 144.,  97., 168.,  68.,  49.,\n",
       "         68., 245., 184., 202., 137.,  85., 131., 283., 129.,  59., 341.,\n",
       "         87.,  65., 102., 265., 276., 252.,  90., 100.,  55.,  61.,  92.,\n",
       "        259.,  53., 190., 142.,  75., 142., 155., 225.,  59., 104., 182.,\n",
       "        128.,  52.,  37., 170., 170.,  61., 144.,  52., 128.,  71., 163.,\n",
       "        150.,  97., 160., 178.,  48., 270., 202., 111.,  85.,  42., 170.,\n",
       "        200., 252., 113., 143.,  51.,  52., 210.,  65., 141.,  55., 134.,\n",
       "         42., 111.,  98., 164.,  48.,  96.,  90., 162., 150., 279.,  92.,\n",
       "         83., 128., 102., 302., 198.,  95.,  53., 134., 144., 232.,  81.,\n",
       "        104.,  59., 246., 297., 258., 229., 275., 281., 179., 200., 200.,\n",
       "        173., 180.,  84., 121., 161.,  99., 109., 115., 268., 274., 158.,\n",
       "        107.,  83., 103., 272.,  85., 280., 336., 281., 118., 317., 235.,\n",
       "         60., 174., 259., 178., 128.,  96., 126., 288.,  88., 292.,  71.,\n",
       "        197., 186.,  25.,  84.,  96., 195.,  53., 217., 172., 131., 214.,\n",
       "         59.,  70., 220., 268., 152.,  47.,  74., 295., 101., 151., 127.,\n",
       "        237., 225.,  81., 151., 107.,  64., 138., 185., 265., 101., 137.,\n",
       "        143., 141.,  79., 292., 178.,  91., 116.,  86., 122.,  72., 129.,\n",
       "        142.,  90., 158.,  39., 196., 222., 277.,  99., 196., 202., 155.,\n",
       "         77., 191.,  70.,  73.,  49.,  65., 263., 248., 296., 214., 185.,\n",
       "         78.,  93., 252., 150.,  77., 208.,  77., 108., 160.,  53., 220.,\n",
       "        154., 259.,  90., 246., 124.,  67.,  72., 257., 262., 275., 177.,\n",
       "         71.,  47., 187., 125.,  78.,  51., 258., 215., 303., 243.,  91.,\n",
       "        150., 310., 153., 346.,  63.,  89.,  50.,  39., 103., 308., 116.,\n",
       "        145.,  74.,  45., 115., 264.,  87., 202., 127., 182., 241.,  66.,\n",
       "         94., 283.,  64., 102., 200., 265.,  94., 230., 181., 156., 233.,\n",
       "         60., 219.,  80.,  68., 332., 248.,  84., 200.,  55.,  85.,  89.,\n",
       "         31., 129.,  83., 275.,  65., 198., 236., 253., 124.,  44., 172.,\n",
       "        114., 142., 109., 180., 144., 163., 147.,  97., 220., 190., 109.,\n",
       "        191., 122., 230., 242., 248., 249., 192., 131., 237.,  78., 135.,\n",
       "        244., 199., 270., 164.,  72.,  96., 306.,  91., 214.,  95., 216.,\n",
       "        263., 178., 113., 200., 139., 139.,  88., 148.,  88., 243.,  71.,\n",
       "         77., 109., 272.,  60.,  54., 221.,  90., 311., 281., 182., 321.,\n",
       "         58., 262., 206., 233., 242., 123., 167.,  63., 197.,  71., 168.,\n",
       "        140., 217., 121., 235., 245.,  40.,  52., 104., 132.,  88.,  69.,\n",
       "        219.,  72., 201., 110.,  51., 277.,  63., 118.,  69., 273., 258.,\n",
       "         43., 198., 242., 232., 175.,  93., 168., 275., 293., 281.,  72.,\n",
       "        140., 189., 181., 209., 136., 261., 113., 131., 174., 257.,  55.,\n",
       "         84.,  42., 146., 212., 233.,  91., 111., 152., 120.,  67., 310.,\n",
       "         94., 183.,  66., 173.,  72.,  49.,  64.,  48., 178., 104., 132.,\n",
       "        220.,  57.]),\n",
       " 'frame': None,\n",
       " 'DESCR': '.. _diabetes_dataset:\\n\\nDiabetes dataset\\n----------------\\n\\nTen baseline variables, age, sex, body mass index, average blood\\npressure, and six blood serum measurements were obtained for each of n =\\n442 diabetes patients, as well as the response of interest, a\\nquantitative measure of disease progression one year after baseline.\\n\\n**Data Set Characteristics:**\\n\\n  :Number of Instances: 442\\n\\n  :Number of Attributes: First 10 columns are numeric predictive values\\n\\n  :Target: Column 11 is a quantitative measure of disease progression one year after baseline\\n\\n  :Attribute Information:\\n      - age     age in years\\n      - sex\\n      - bmi     body mass index\\n      - bp      average blood pressure\\n      - s1      tc, T-Cells (a type of white blood cells)\\n      - s2      ldl, low-density lipoproteins\\n      - s3      hdl, high-density lipoproteins\\n      - s4      tch, thyroid stimulating hormone\\n      - s5      ltg, lamotrigine\\n      - s6      glu, blood sugar level\\n\\nNote: Each of these 10 feature variables have been mean centered and scaled by the standard deviation times `n_samples` (i.e. the sum of squares of each column totals 1).\\n\\nSource URL:\\nhttps://www4.stat.ncsu.edu/~boos/var.select/diabetes.html\\n\\nFor more information see:\\nBradley Efron, Trevor Hastie, Iain Johnstone and Robert Tibshirani (2004) \"Least Angle Regression,\" Annals of Statistics (with discussion), 407-499.\\n(https://web.stanford.edu/~hastie/Papers/LARS/LeastAngle_2002.pdf)',\n",
       " 'feature_names': ['age',\n",
       "  'sex',\n",
       "  'bmi',\n",
       "  'bp',\n",
       "  's1',\n",
       "  's2',\n",
       "  's3',\n",
       "  's4',\n",
       "  's5',\n",
       "  's6'],\n",
       " 'data_filename': '/home/ajay/anaconda3/lib/python3.8/site-packages/sklearn/datasets/data/diabetes_data.csv.gz',\n",
       " 'target_filename': '/home/ajay/anaconda3/lib/python3.8/site-packages/sklearn/datasets/data/diabetes_target.csv.gz'}"
      ]
     },
     "execution_count": 3,
     "metadata": {},
     "output_type": "execute_result"
    }
   ],
   "source": [
    "df"
   ]
  },
  {
   "cell_type": "code",
   "execution_count": 5,
   "metadata": {},
   "outputs": [
    {
     "name": "stdout",
     "output_type": "stream",
     "text": [
      ".. _diabetes_dataset:\n",
      "\n",
      "Diabetes dataset\n",
      "----------------\n",
      "\n",
      "Ten baseline variables, age, sex, body mass index, average blood\n",
      "pressure, and six blood serum measurements were obtained for each of n =\n",
      "442 diabetes patients, as well as the response of interest, a\n",
      "quantitative measure of disease progression one year after baseline.\n",
      "\n",
      "**Data Set Characteristics:**\n",
      "\n",
      "  :Number of Instances: 442\n",
      "\n",
      "  :Number of Attributes: First 10 columns are numeric predictive values\n",
      "\n",
      "  :Target: Column 11 is a quantitative measure of disease progression one year after baseline\n",
      "\n",
      "  :Attribute Information:\n",
      "      - age     age in years\n",
      "      - sex\n",
      "      - bmi     body mass index\n",
      "      - bp      average blood pressure\n",
      "      - s1      tc, T-Cells (a type of white blood cells)\n",
      "      - s2      ldl, low-density lipoproteins\n",
      "      - s3      hdl, high-density lipoproteins\n",
      "      - s4      tch, thyroid stimulating hormone\n",
      "      - s5      ltg, lamotrigine\n",
      "      - s6      glu, blood sugar level\n",
      "\n",
      "Note: Each of these 10 feature variables have been mean centered and scaled by the standard deviation times `n_samples` (i.e. the sum of squares of each column totals 1).\n",
      "\n",
      "Source URL:\n",
      "https://www4.stat.ncsu.edu/~boos/var.select/diabetes.html\n",
      "\n",
      "For more information see:\n",
      "Bradley Efron, Trevor Hastie, Iain Johnstone and Robert Tibshirani (2004) \"Least Angle Regression,\" Annals of Statistics (with discussion), 407-499.\n",
      "(https://web.stanford.edu/~hastie/Papers/LARS/LeastAngle_2002.pdf)\n"
     ]
    }
   ],
   "source": [
    "print(df.DESCR)"
   ]
  },
  {
   "cell_type": "code",
   "execution_count": 6,
   "metadata": {},
   "outputs": [
    {
     "name": "stdout",
     "output_type": "stream",
     "text": [
      "['age', 'sex', 'bmi', 'bp', 's1', 's2', 's3', 's4', 's5', 's6']\n"
     ]
    }
   ],
   "source": [
    "print(df.feature_names)"
   ]
  },
  {
   "cell_type": "code",
   "execution_count": 7,
   "metadata": {},
   "outputs": [],
   "source": [
    "x=df.data\n",
    "y=df.target"
   ]
  },
  {
   "cell_type": "code",
   "execution_count": 8,
   "metadata": {},
   "outputs": [
    {
     "data": {
      "text/plain": [
       "((442, 10), (442,))"
      ]
     },
     "execution_count": 8,
     "metadata": {},
     "output_type": "execute_result"
    }
   ],
   "source": [
    "x.shape,y.shape"
   ]
  },
  {
   "cell_type": "code",
   "execution_count": 9,
   "metadata": {},
   "outputs": [],
   "source": [
    "from sklearn.model_selection import train_test_split"
   ]
  },
  {
   "cell_type": "code",
   "execution_count": 10,
   "metadata": {},
   "outputs": [],
   "source": [
    "X_train,X_test,y_train,y_test=train_test_split(x,y,test_size=.2)"
   ]
  },
  {
   "cell_type": "code",
   "execution_count": 13,
   "metadata": {},
   "outputs": [
    {
     "data": {
      "text/plain": [
       "((353, 10), (353,))"
      ]
     },
     "execution_count": 13,
     "metadata": {},
     "output_type": "execute_result"
    }
   ],
   "source": [
    "X_train.shape,y_train.shape"
   ]
  },
  {
   "cell_type": "code",
   "execution_count": 14,
   "metadata": {},
   "outputs": [
    {
     "data": {
      "text/plain": [
       "((89, 10), (89,))"
      ]
     },
     "execution_count": 14,
     "metadata": {},
     "output_type": "execute_result"
    }
   ],
   "source": [
    "X_test.shape,y_test.shape"
   ]
  },
  {
   "cell_type": "code",
   "execution_count": 15,
   "metadata": {},
   "outputs": [
    {
     "name": "stderr",
     "output_type": "stream",
     "text": [
      "<frozen importlib._bootstrap>:219: RuntimeWarning: numpy.ufunc size changed, may indicate binary incompatibility. Expected 192 from C header, got 216 from PyObject\n"
     ]
    }
   ],
   "source": [
    "from sklearn import linear_model\n",
    "from sklearn.metrics import mean_squared_error,r2_score"
   ]
  },
  {
   "cell_type": "code",
   "execution_count": 16,
   "metadata": {},
   "outputs": [],
   "source": [
    "model=linear_model.LinearRegression()"
   ]
  },
  {
   "cell_type": "code",
   "execution_count": 17,
   "metadata": {},
   "outputs": [
    {
     "data": {
      "text/plain": [
       "LinearRegression()"
      ]
     },
     "execution_count": 17,
     "metadata": {},
     "output_type": "execute_result"
    }
   ],
   "source": [
    "model.fit(X_train,y_train)"
   ]
  },
  {
   "cell_type": "code",
   "execution_count": 18,
   "metadata": {},
   "outputs": [],
   "source": [
    "y_pred=model.predict(X_test)"
   ]
  },
  {
   "cell_type": "code",
   "execution_count": 19,
   "metadata": {},
   "outputs": [
    {
     "name": "stdout",
     "output_type": "stream",
     "text": [
      "model coefficient [ -48.10314575 -214.41691063  574.17514353  321.08898998 -648.90376181\n",
      "  370.98743382   27.74674963  130.80470731  696.53554127   68.31887284]\n",
      "model intercept 151.54864868142732\n"
     ]
    }
   ],
   "source": [
    "print(\"model coefficient\",model.coef_)\n",
    "print(\"model intercept\",model.intercept_)"
   ]
  },
  {
   "cell_type": "code",
   "execution_count": 23,
   "metadata": {},
   "outputs": [
    {
     "name": "stdout",
     "output_type": "stream",
     "text": [
      "mean squared erorr :2826.1303\n"
     ]
    }
   ],
   "source": [
    "print(\"mean squared erorr :%.4f\"%mean_squared_error(y_test,y_pred))"
   ]
  },
  {
   "cell_type": "code",
   "execution_count": 24,
   "metadata": {},
   "outputs": [
    {
     "name": "stdout",
     "output_type": "stream",
     "text": [
      "coefficient of determination is 0.466\n"
     ]
    }
   ],
   "source": [
    "print(\"coefficient of determination is %.3f\"%r2_score(y_test,y_pred))"
   ]
  },
  {
   "cell_type": "code",
   "execution_count": 25,
   "metadata": {},
   "outputs": [
    {
     "name": "stderr",
     "output_type": "stream",
     "text": [
      "<frozen importlib._bootstrap>:219: RuntimeWarning: numpy.ufunc size changed, may indicate binary incompatibility. Expected 192 from C header, got 216 from PyObject\n",
      "<frozen importlib._bootstrap>:219: RuntimeWarning: numpy.ufunc size changed, may indicate binary incompatibility. Expected 192 from C header, got 216 from PyObject\n"
     ]
    }
   ],
   "source": [
    "import seaborn as sns"
   ]
  },
  {
   "cell_type": "code",
   "execution_count": 26,
   "metadata": {},
   "outputs": [
    {
     "data": {
      "text/plain": [
       "array([[-0.01277963, -0.04464164,  0.06061839,  0.05285819,  0.04796534,\n",
       "         0.02937467, -0.01762938,  0.03430886,  0.0702113 ,  0.00720652],\n",
       "       [ 0.04170844,  0.05068012, -0.04392938,  0.0631868 , -0.00432087,\n",
       "         0.01622244, -0.01394774, -0.00259226, -0.03452372,  0.01134862],\n",
       "       [ 0.04897352,  0.05068012,  0.05846277,  0.07007254,  0.01356652,\n",
       "         0.02060651, -0.02131102,  0.03430886,  0.02200405,  0.02791705],\n",
       "       [ 0.01264814,  0.05068012,  0.03582872,  0.04941532,  0.05346915,\n",
       "         0.0741549 , -0.06917231,  0.14501222,  0.04560081,  0.04862759],\n",
       "       [ 0.03807591,  0.05068012,  0.06169621,  0.02187235, -0.0442235 ,\n",
       "        -0.03482076, -0.04340085, -0.00259226,  0.01990842, -0.01764613],\n",
       "       [ 0.04170844,  0.05068012,  0.07139652,  0.00810087,  0.03833367,\n",
       "         0.01590929, -0.01762938,  0.03430886,  0.07341008,  0.08590655],\n",
       "       [ 0.02717829,  0.05068012, -0.03530688,  0.03220097, -0.01120063,\n",
       "         0.00150446, -0.01026611, -0.00259226, -0.01495648, -0.05078298],\n",
       "       [ 0.03081083,  0.05068012,  0.04660684, -0.01599922,  0.02044629,\n",
       "         0.05066877, -0.0581274 ,  0.07120998,  0.00620932,  0.00720652],\n",
       "       [-0.00188202,  0.05068012,  0.03043966,  0.05285819,  0.03970963,\n",
       "         0.05661859, -0.03971921,  0.07120998,  0.02539313,  0.02791705],\n",
       "       [-0.04910502, -0.04464164, -0.06440781, -0.10207099, -0.00294491,\n",
       "        -0.01540556,  0.06336665, -0.04724262, -0.03324879, -0.05492509],\n",
       "       [ 0.07440129, -0.04464164,  0.0347509 ,  0.09417264,  0.05759701,\n",
       "         0.02029337,  0.02286863, -0.00259226,  0.07380215, -0.02178823],\n",
       "       [-0.08179786,  0.05068012,  0.04229559, -0.01944209,  0.03970963,\n",
       "         0.05755803, -0.06917231,  0.1081111 ,  0.04718617, -0.03835666],\n",
       "       [ 0.04534098,  0.05068012, -0.03530688,  0.0631868 , -0.00432087,\n",
       "        -0.00162703, -0.01026611, -0.00259226,  0.01556684,  0.0569118 ],\n",
       "       [ 0.04170844, -0.04464164, -0.04500719,  0.03449621,  0.04383748,\n",
       "        -0.01571871,  0.03759519, -0.01440062,  0.08989869,  0.00720652],\n",
       "       [-0.07453279,  0.05068012, -0.00943939,  0.01498661, -0.03734373,\n",
       "        -0.02166853, -0.01394774, -0.00259226, -0.03324879,  0.01134862],\n",
       "       [-0.04183994, -0.04464164,  0.04768465,  0.05974393,  0.12777061,\n",
       "         0.12801644, -0.02499266,  0.1081111 ,  0.06389312,  0.04034337],\n",
       "       [ 0.02717829, -0.04464164, -0.00728377, -0.05042793,  0.0754844 ,\n",
       "         0.05661859,  0.03391355, -0.00259226,  0.04344317,  0.01549073],\n",
       "       [ 0.01264814, -0.04464164, -0.02021751, -0.01599922,  0.01219057,\n",
       "         0.02123281, -0.07653559,  0.1081111 ,  0.05988072, -0.02178823],\n",
       "       [-0.09996055, -0.04464164, -0.02345095, -0.06419941, -0.05798303,\n",
       "        -0.06018579,  0.01182372, -0.03949338, -0.01811827, -0.05078298],\n",
       "       [-0.05637009, -0.04464164, -0.01159501, -0.03321358, -0.0469754 ,\n",
       "        -0.04765985,  0.00446045, -0.03949338, -0.0079794 , -0.08806194],\n",
       "       [ 0.04170844, -0.04464164, -0.00836158, -0.02632783,  0.02457414,\n",
       "         0.01622244,  0.07072993, -0.03949338, -0.04836172, -0.03007245],\n",
       "       [-0.05637009, -0.04464164, -0.08057499, -0.08485664, -0.03734373,\n",
       "        -0.0370128 ,  0.03391355, -0.03949338, -0.05615757, -0.13776723],\n",
       "       [-0.08906294, -0.04464164, -0.04177375, -0.01944209, -0.06623874,\n",
       "        -0.07427747,  0.00814208, -0.03949338,  0.0011438 , -0.03007245],\n",
       "       [ 0.03444337,  0.05068012,  0.02828403, -0.03321358, -0.04559945,\n",
       "        -0.00976889, -0.05076412, -0.00259226, -0.0594727 , -0.02178823],\n",
       "       [-0.03094232,  0.05068012,  0.05954058,  0.00121513,  0.01219057,\n",
       "         0.03156671, -0.04340085,  0.03430886,  0.01482271,  0.00720652],\n",
       "       [ 0.02354575, -0.04464164,  0.01966154, -0.01255635,  0.08374012,\n",
       "         0.03876913,  0.06336665, -0.00259226,  0.06604821,  0.04862759],\n",
       "       [-0.07090025, -0.04464164, -0.00405033, -0.04009932, -0.06623874,\n",
       "        -0.07866155,  0.05232174, -0.0763945 , -0.05140054, -0.03421455],\n",
       "       [-0.00188202, -0.04464164,  0.03367309,  0.12515848,  0.02457414,\n",
       "         0.02624319, -0.01026611, -0.00259226,  0.02671426,  0.06105391],\n",
       "       [ 0.03081083, -0.04464164,  0.04013997,  0.07695829,  0.01769438,\n",
       "         0.03782968, -0.02867429,  0.03430886, -0.00149859,  0.1190434 ],\n",
       "       [-0.00914709, -0.04464164,  0.01103904, -0.05731367, -0.02496016,\n",
       "        -0.04296262,  0.03023191, -0.03949338,  0.01703713, -0.0052198 ],\n",
       "       [-0.04183994, -0.04464164, -0.06548562, -0.04009932, -0.00569682,\n",
       "         0.01434355, -0.04340085,  0.03430886,  0.00702686, -0.01350402],\n",
       "       [ 0.00538306,  0.05068012, -0.00836158,  0.02187235,  0.05484511,\n",
       "         0.07321546, -0.02499266,  0.03430886,  0.01255315,  0.09419076],\n",
       "       [-0.0854304 ,  0.05068012, -0.02237314,  0.00121513, -0.03734373,\n",
       "        -0.02636575,  0.01550536, -0.03949338, -0.07212845, -0.01764613],\n",
       "       [-0.02730979,  0.05068012,  0.06061839,  0.04941532,  0.08511607,\n",
       "         0.08636769, -0.00290283,  0.03430886,  0.03781448,  0.04862759],\n",
       "       [ 0.04170844,  0.05068012,  0.06169621, -0.04009932, -0.01395254,\n",
       "         0.00620169, -0.02867429, -0.00259226, -0.01495648,  0.01134862],\n",
       "       [-0.04547248, -0.04464164, -0.0730303 , -0.08141377,  0.08374012,\n",
       "         0.02780893,  0.17381578, -0.03949338, -0.00421986,  0.00306441],\n",
       "       [ 0.07076875, -0.04464164, -0.00512814, -0.00567061,  0.08786798,\n",
       "         0.10296456,  0.01182372,  0.03430886, -0.00894402,  0.02791705],\n",
       "       [ 0.05987114,  0.05068012,  0.07678558,  0.02531523,  0.00118295,\n",
       "         0.01684873, -0.05444576,  0.03430886,  0.02993565,  0.04448548],\n",
       "       [ 0.01628068, -0.04464164, -0.046085  , -0.00567061, -0.07587041,\n",
       "        -0.06143838, -0.01394774, -0.03949338, -0.05140054,  0.01963284],\n",
       "       [-0.07816532, -0.04464164, -0.0730303 , -0.05731367, -0.08412613,\n",
       "        -0.07427747, -0.02499266, -0.03949338, -0.01811827, -0.08391984],\n",
       "       [ 0.00175052,  0.05068012, -0.00620595, -0.01944209, -0.00982468,\n",
       "         0.00494909, -0.03971921,  0.03430886,  0.01482271,  0.09833287],\n",
       "       [ 0.03444337, -0.04464164, -0.03854032, -0.01255635,  0.00943866,\n",
       "         0.00526224, -0.00658447, -0.00259226,  0.03119299,  0.09833287],\n",
       "       [ 0.0090156 ,  0.05068012, -0.00189471,  0.02187235, -0.03871969,\n",
       "        -0.02480001, -0.00658447, -0.03949338, -0.03980959, -0.01350402],\n",
       "       [ 0.02354575, -0.04464164,  0.11019775,  0.0631868 ,  0.01356652,\n",
       "        -0.03294187, -0.02499266,  0.02065544,  0.09924023,  0.02377494],\n",
       "       [ 0.00175052,  0.05068012,  0.01103904, -0.01944209, -0.01670444,\n",
       "        -0.00381907, -0.04708248,  0.03430886,  0.02405258,  0.02377494],\n",
       "       [ 0.03807591,  0.05068012, -0.02991782, -0.07452802, -0.01257658,\n",
       "        -0.01258722,  0.00446045, -0.00259226,  0.00371174, -0.03007245],\n",
       "       [ 0.04534098,  0.05068012, -0.00297252,  0.10794412,  0.03558177,\n",
       "         0.02248541,  0.02655027, -0.00259226,  0.02801651,  0.01963284],\n",
       "       [ 0.02354575,  0.05068012, -0.0191397 ,  0.04941532, -0.06348684,\n",
       "        -0.06112523,  0.00446045, -0.03949338, -0.02595242, -0.01350402],\n",
       "       [ 0.00538306,  0.05068012,  0.01750591,  0.03220097,  0.12777061,\n",
       "         0.12739014, -0.02131102,  0.07120998,  0.06257518,  0.01549073],\n",
       "       [-0.02730979,  0.05068012, -0.00728377, -0.04009932, -0.01120063,\n",
       "        -0.01383982,  0.05968501, -0.03949338, -0.08238148, -0.02593034],\n",
       "       [ 0.0090156 ,  0.05068012,  0.03043966,  0.04252958, -0.00294491,\n",
       "         0.03689023, -0.06549067,  0.07120998, -0.02364456,  0.01549073],\n",
       "       [-0.09632802, -0.04464164, -0.07626374, -0.04354219, -0.04559945,\n",
       "        -0.03482076,  0.00814208, -0.03949338, -0.0594727 , -0.08391984],\n",
       "       [ 0.01628068, -0.04464164,  0.00133873,  0.00810087,  0.0053108 ,\n",
       "         0.01089891,  0.03023191, -0.03949338, -0.04542096,  0.03205916],\n",
       "       [-0.00914709,  0.05068012, -0.03099563, -0.02632783, -0.01120063,\n",
       "        -0.00100073, -0.02131102, -0.00259226,  0.00620932,  0.02791705],\n",
       "       [-0.02367725, -0.04464164, -0.06548562, -0.08141377, -0.03871969,\n",
       "        -0.05360967,  0.05968501, -0.0763945 , -0.03712835, -0.04249877],\n",
       "       [-0.03094232, -0.04464164,  0.00564998, -0.00911348,  0.01907033,\n",
       "         0.00682798,  0.07441156, -0.03949338, -0.04118039, -0.04249877],\n",
       "       [-0.04183994, -0.04464164,  0.12852056,  0.0631868 , -0.03321588,\n",
       "        -0.03262872,  0.01182372, -0.03949338, -0.01599827, -0.05078298],\n",
       "       [ 0.06350368,  0.05068012, -0.00405033, -0.01255635,  0.10300346,\n",
       "         0.04878988,  0.05600338, -0.00259226,  0.08449528, -0.01764613],\n",
       "       [ 0.00538306, -0.04464164, -0.00297252,  0.04941532,  0.07410845,\n",
       "         0.07071027,  0.04495846, -0.00259226, -0.00149859, -0.00936191],\n",
       "       [ 0.04534098, -0.04464164, -0.00620595, -0.01599922,  0.1250187 ,\n",
       "         0.1251981 ,  0.019187  ,  0.03430886,  0.03243323, -0.0052198 ],\n",
       "       [ 0.02354575,  0.05068012, -0.0374625 , -0.04698506, -0.0910059 ,\n",
       "        -0.07553006, -0.03235593, -0.03949338, -0.03075121, -0.01350402],\n",
       "       [-0.00914709,  0.05068012,  0.00133873, -0.00222774,  0.07961226,\n",
       "         0.07008397,  0.03391355, -0.00259226,  0.02671426,  0.08176444],\n",
       "       [ 0.00175052, -0.04464164, -0.03961813, -0.10092337, -0.02908802,\n",
       "        -0.03012354,  0.04495846, -0.05019471, -0.06832974, -0.12948301],\n",
       "       [ 0.0090156 , -0.04464164, -0.02237314, -0.03206595, -0.04972731,\n",
       "        -0.0686408 ,  0.0780932 , -0.07085934, -0.06291295, -0.03835666],\n",
       "       [-0.00551455, -0.04464164,  0.00888341, -0.05042793,  0.0259501 ,\n",
       "         0.04722413, -0.04340085,  0.07120998,  0.01482271,  0.00306441],\n",
       "       [-0.09632802, -0.04464164, -0.08380842,  0.00810087, -0.10338947,\n",
       "        -0.09056119, -0.01394774, -0.0763945 , -0.06291295, -0.03421455],\n",
       "       [-0.07816532, -0.04464164, -0.04069594, -0.08141377, -0.10063757,\n",
       "        -0.11279473,  0.02286863, -0.0763945 , -0.02028875, -0.05078298],\n",
       "       [ 0.01628068, -0.04464164, -0.02884001, -0.00911348, -0.00432087,\n",
       "        -0.00976889,  0.04495846, -0.03949338, -0.03075121, -0.04249877],\n",
       "       [-0.04547248, -0.04464164, -0.04824063, -0.01944209, -0.00019301,\n",
       "        -0.01603186,  0.06704829, -0.03949338, -0.02479119,  0.01963284],\n",
       "       [ 0.03444337,  0.05068012, -0.00189471, -0.01255635,  0.03833367,\n",
       "         0.01371725,  0.0780932 , -0.03949338,  0.00455189, -0.09634616],\n",
       "       [ 0.00538306, -0.04464164,  0.05954058, -0.05616605,  0.02457414,\n",
       "         0.05286081, -0.04340085,  0.05091436, -0.00421986, -0.03007245],\n",
       "       [-0.09269548, -0.04464164, -0.04069594, -0.01944209, -0.06899065,\n",
       "        -0.07928784,  0.04127682, -0.0763945 , -0.04118039, -0.09634616],\n",
       "       [-0.0382074 , -0.04464164,  0.06708527, -0.06075654, -0.02908802,\n",
       "        -0.02323427, -0.01026611, -0.00259226, -0.00149859,  0.01963284],\n",
       "       [ 0.04897352, -0.04464164,  0.02720622, -0.02518021,  0.02319819,\n",
       "         0.01841448, -0.06180903,  0.08006625,  0.07222365,  0.03205916],\n",
       "       [-0.04547248,  0.05068012,  0.06385183,  0.07007254,  0.13327442,\n",
       "         0.13146107, -0.03971921,  0.1081111 ,  0.07573759,  0.08590655],\n",
       "       [-0.02367725, -0.04464164,  0.05954058, -0.04009932, -0.04284755,\n",
       "        -0.04358892,  0.01182372, -0.03949338, -0.01599827,  0.04034337],\n",
       "       [ 0.05987114,  0.05068012,  0.04121778,  0.01154374,  0.04108558,\n",
       "         0.07071027, -0.03603757,  0.03430886, -0.01090444, -0.03007245],\n",
       "       [ 0.03081083, -0.04464164,  0.00564998,  0.01154374,  0.07823631,\n",
       "         0.07791268, -0.04340085,  0.1081111 ,  0.06604821,  0.01963284],\n",
       "       [ 0.02354575,  0.05068012,  0.06169621,  0.06203918,  0.02457414,\n",
       "        -0.03607336, -0.09126214,  0.15534454,  0.13339573,  0.08176444],\n",
       "       [-0.00188202, -0.04464164,  0.05415152, -0.06649466,  0.07273249,\n",
       "         0.05661859, -0.04340085,  0.08486339,  0.08449528,  0.04862759],\n",
       "       [ 0.04170844,  0.05068012, -0.03207344, -0.02288496, -0.04972731,\n",
       "        -0.04014429,  0.03023191, -0.03949338, -0.12609739,  0.01549073],\n",
       "       [ 0.06350368,  0.05068012,  0.08864151,  0.07007254,  0.02044629,\n",
       "         0.03751653, -0.05076412,  0.07120998,  0.02930041,  0.07348023],\n",
       "       [ 0.04170844, -0.04464164, -0.00728377,  0.0287581 , -0.04284755,\n",
       "        -0.04828615,  0.05232174, -0.0763945 , -0.07212845,  0.02377494],\n",
       "       [-0.07453279, -0.04464164, -0.02345095, -0.00567061, -0.0208323 ,\n",
       "        -0.01415296,  0.01550536, -0.03949338, -0.03845911, -0.03007245],\n",
       "       [-0.00188202, -0.04464164, -0.05147406, -0.02632783, -0.00844872,\n",
       "        -0.01916334,  0.07441156, -0.03949338, -0.06832974, -0.09220405],\n",
       "       [-0.04183994,  0.05068012, -0.02991782, -0.00222774,  0.02182224,\n",
       "         0.03657709,  0.01182372, -0.00259226, -0.04118039,  0.06519601],\n",
       "       [ 0.04897352,  0.05068012,  0.00349435,  0.07007254, -0.00844872,\n",
       "         0.0134041 , -0.05444576,  0.03430886,  0.01331597,  0.03620126],\n",
       "       [-0.0382074 , -0.04464164, -0.0105172 , -0.03665645, -0.03734373,\n",
       "        -0.01947649, -0.02867429, -0.00259226, -0.01811827, -0.01764613],\n",
       "       [-0.06000263, -0.04464164,  0.04445121, -0.01944209, -0.00982468,\n",
       "        -0.00757685,  0.02286863, -0.03949338, -0.02712865, -0.00936191]])"
      ]
     },
     "execution_count": 26,
     "metadata": {},
     "output_type": "execute_result"
    }
   ],
   "source": [
    "X_test"
   ]
  },
  {
   "cell_type": "code",
   "execution_count": 27,
   "metadata": {},
   "outputs": [
    {
     "data": {
      "text/plain": [
       "array([215.,  71., 275., 248., 151., 295.,  53., 174., 222.,  96., 236.,\n",
       "       137., 185.,  90.,  60., 258.,  95., 233., 150., 190.,  81.,  72.,\n",
       "       185., 145., 178., 262.,  61., 270., 155., 276., 214., 100.,  49.,\n",
       "       186., 110.,  57., 230., 332., 178., 142., 262., 206.,  44., 258.,\n",
       "       111.,  88., 217., 219., 139.,  52., 244., 134.,  49.,  42.,  59.,\n",
       "        60., 259., 202., 141., 219., 129., 142.,  65.,  84., 174., 101.,\n",
       "       152., 179., 111., 109.,  91.,  97.,  78., 225., 217.,  85., 198.,\n",
       "       249., 242., 192., 104., 264., 182., 144.,  75., 118., 129.,  97.,\n",
       "       129.])"
      ]
     },
     "execution_count": 27,
     "metadata": {},
     "output_type": "execute_result"
    }
   ],
   "source": [
    "y_test"
   ]
  },
  {
   "cell_type": "code",
   "execution_count": 29,
   "metadata": {},
   "outputs": [
    {
     "data": {
      "text/plain": [
       "array([246.68141998, 118.56548922, 214.36529042, 221.46017421,\n",
       "       208.19457982, 224.29852246, 122.75683849, 178.87209814,\n",
       "       198.26644551,  58.59041988, 228.09892431, 200.71321736,\n",
       "       154.82448323, 172.34030864, 136.74342563, 234.98534242,\n",
       "       143.38180547, 195.97152068, 126.22024164, 142.69499348,\n",
       "        96.98816946,  48.06989101, 144.40542405, 125.90512169,\n",
       "       194.64804592, 178.03522902, 116.44936996, 236.67663345,\n",
       "       220.72992124, 156.93754899, 128.93090973, 153.19083085,\n",
       "        90.6053456 , 203.54566814, 161.8021561 ,  48.13915494,\n",
       "       134.62511085, 222.36935179, 118.48158432, 107.36663953,\n",
       "       159.43135956, 157.05381889, 128.10823799, 295.28193995,\n",
       "       171.67534872, 101.54902217, 177.95990337, 138.90515725,\n",
       "       178.53061599,  64.40876913, 179.06502949,  72.55802051,\n",
       "       130.53019493, 127.07023079,  66.6537029 , 118.39680623,\n",
       "       247.21350974, 141.39427784, 152.38992556, 142.81528356,\n",
       "       105.5807071 , 140.31031476,  51.82462757,  90.80464323,\n",
       "       169.61933559,  97.18902159, 111.87207436, 111.79040905,\n",
       "       104.31215777, 107.70880754, 181.14029958, 107.21044755,\n",
       "       191.89814752, 219.33360973, 235.98145518, 181.97878667,\n",
       "       158.58480261, 205.00933675, 281.85335135, 216.83369965,\n",
       "        39.18691046, 245.00793775, 116.89963618, 124.10934478,\n",
       "        64.58083459,  99.96984832, 188.01259139, 147.19644708,\n",
       "       162.78432929])"
      ]
     },
     "execution_count": 29,
     "metadata": {},
     "output_type": "execute_result"
    }
   ],
   "source": [
    "y_pred"
   ]
  },
  {
   "cell_type": "code",
   "execution_count": 31,
   "metadata": {},
   "outputs": [
    {
     "data": {
      "text/plain": [
       "<matplotlib.axes._subplots.AxesSubplot at 0x7f99150c5160>"
      ]
     },
     "execution_count": 31,
     "metadata": {},
     "output_type": "execute_result"
    },
    {
     "data": {
      "image/png": "[encoded data removed]",
      "text/plain": [
       "<Figure size 432x288 with 1 Axes>"
      ]
     },
     "metadata": {
      "needs_background": "light"
     },
     "output_type": "display_data"
    }
   ],
   "source": [
    "sns.scatterplot(y_test,y_pred,alpha=.5)"
   ]
  },
  {
   "cell_type": "code",
   "execution_count": 32,
   "metadata": {},
   "outputs": [
    {
     "data": {
      "text/plain": [
       "<matplotlib.axes._subplots.AxesSubplot at 0x7f99151a6d00>"
      ]
     },
     "execution_count": 32,
     "metadata": {},
     "output_type": "execute_result"
    },
    {
     "data": {
      "image/png": "[encoded data removed]",
      "text/plain": [
       "<Figure size 432x288 with 1 Axes>"
      ]
     },
     "metadata": {
      "needs_background": "light"
     },
     "output_type": "display_data"
    }
   ],
   "source": [
    "sns.scatterplot(y_test,y_pred,marker='+')"
   ]
  },
  {
   "cell_type": "code",
   "execution_count": 33,
   "metadata": {},
   "outputs": [
    {
     "data": {
      "text/plain": [
       "<matplotlib.axes._subplots.AxesSubplot at 0x7f99154ba130>"
      ]
     },
     "execution_count": 33,
     "metadata": {},
     "output_type": "execute_result"
    },
    {
     "data": {
      "image/png": "[encoded data removed]",
      "text/plain": [
       "<Figure size 432x288 with 1 Axes>"
      ]
     },
     "metadata": {
      "needs_background": "light"
     },
     "output_type": "display_data"
    }
   ],
   "source": [
    "sns.scatterplot(y_test,y_pred,alpha=1)"
   ]
  },
  {
   "cell_type": "code",
   "execution_count": 37,
   "metadata": {},
   "outputs": [],
   "source": [
    "import pandas  as pd "
   ]
  },
  {
   "cell_type": "code",
   "execution_count": 39,
   "metadata": {},
   "outputs": [
    {
     "data": {
      "text/html": [
       "<div>\n",
       "<style scoped>\n",
       "    .dataframe tbody tr th:only-of-type {\n",
       "        vertical-align: middle;\n",
       "    }\n",
       "\n",
       "    .dataframe tbody tr th {\n",
       "        vertical-align: top;\n",
       "    }\n",
       "\n",
       "    .dataframe thead th {\n",
       "        text-align: right;\n",
       "    }\n",
       "</style>\n",
       "<table border=\"1\" class=\"dataframe\">\n",
       "  <thead>\n",
       "    <tr style=\"text-align: right;\">\n",
       "      <th></th>\n",
       "      <th>crim</th>\n",
       "      <th>zn</th>\n",
       "      <th>indus</th>\n",
       "      <th>chas</th>\n",
       "      <th>nox</th>\n",
       "      <th>rm</th>\n",
       "      <th>age</th>\n",
       "      <th>dis</th>\n",
       "      <th>rad</th>\n",
       "      <th>tax</th>\n",
       "      <th>ptratio</th>\n",
       "      <th>b</th>\n",
       "      <th>lstat</th>\n",
       "      <th>medv</th>\n",
       "    </tr>\n",
       "  </thead>\n",
       "  <tbody>\n",
       "    <tr>\n",
       "      <th>0</th>\n",
       "      <td>0.00632</td>\n",
       "      <td>18.0</td>\n",
       "      <td>2.31</td>\n",
       "      <td>0</td>\n",
       "      <td>0.538</td>\n",
       "      <td>6.575</td>\n",
       "      <td>65.2</td>\n",
       "      <td>4.0900</td>\n",
       "      <td>1</td>\n",
       "      <td>296</td>\n",
       "      <td>15.3</td>\n",
       "      <td>396.90</td>\n",
       "      <td>4.98</td>\n",
       "      <td>24.0</td>\n",
       "    </tr>\n",
       "    <tr>\n",
       "      <th>1</th>\n",
       "      <td>0.02731</td>\n",
       "      <td>0.0</td>\n",
       "      <td>7.07</td>\n",
       "      <td>0</td>\n",
       "      <td>0.469</td>\n",
       "      <td>6.421</td>\n",
       "      <td>78.9</td>\n",
       "      <td>4.9671</td>\n",
       "      <td>2</td>\n",
       "      <td>242</td>\n",
       "      <td>17.8</td>\n",
       "      <td>396.90</td>\n",
       "      <td>9.14</td>\n",
       "      <td>21.6</td>\n",
       "    </tr>\n",
       "    <tr>\n",
       "      <th>2</th>\n",
       "      <td>0.02729</td>\n",
       "      <td>0.0</td>\n",
       "      <td>7.07</td>\n",
       "      <td>0</td>\n",
       "      <td>0.469</td>\n",
       "      <td>7.185</td>\n",
       "      <td>61.1</td>\n",
       "      <td>4.9671</td>\n",
       "      <td>2</td>\n",
       "      <td>242</td>\n",
       "      <td>17.8</td>\n",
       "      <td>392.83</td>\n",
       "      <td>4.03</td>\n",
       "      <td>34.7</td>\n",
       "    </tr>\n",
       "    <tr>\n",
       "      <th>3</th>\n",
       "      <td>0.03237</td>\n",
       "      <td>0.0</td>\n",
       "      <td>2.18</td>\n",
       "      <td>0</td>\n",
       "      <td>0.458</td>\n",
       "      <td>6.998</td>\n",
       "      <td>45.8</td>\n",
       "      <td>6.0622</td>\n",
       "      <td>3</td>\n",
       "      <td>222</td>\n",
       "      <td>18.7</td>\n",
       "      <td>394.63</td>\n",
       "      <td>2.94</td>\n",
       "      <td>33.4</td>\n",
       "    </tr>\n",
       "    <tr>\n",
       "      <th>4</th>\n",
       "      <td>0.06905</td>\n",
       "      <td>0.0</td>\n",
       "      <td>2.18</td>\n",
       "      <td>0</td>\n",
       "      <td>0.458</td>\n",
       "      <td>7.147</td>\n",
       "      <td>54.2</td>\n",
       "      <td>6.0622</td>\n",
       "      <td>3</td>\n",
       "      <td>222</td>\n",
       "      <td>18.7</td>\n",
       "      <td>396.90</td>\n",
       "      <td>5.33</td>\n",
       "      <td>36.2</td>\n",
       "    </tr>\n",
       "  </tbody>\n",
       "</table>\n",
       "</div>"
      ],
      "text/plain": [
       "      crim    zn  indus  chas    nox     rm   age     dis  rad  tax  ptratio  \\\n",
       "0  0.00632  18.0   2.31     0  0.538  6.575  65.2  4.0900    1  296     15.3   \n",
       "1  0.02731   0.0   7.07     0  0.469  6.421  78.9  4.9671    2  242     17.8   \n",
       "2  0.02729   0.0   7.07     0  0.469  7.185  61.1  4.9671    2  242     17.8   \n",
       "3  0.03237   0.0   2.18     0  0.458  6.998  45.8  6.0622    3  222     18.7   \n",
       "4  0.06905   0.0   2.18     0  0.458  7.147  54.2  6.0622    3  222     18.7   \n",
       "\n",
       "        b  lstat  medv  \n",
       "0  396.90   4.98  24.0  \n",
       "1  396.90   9.14  21.6  \n",
       "2  392.83   4.03  34.7  \n",
       "3  394.63   2.94  33.4  \n",
       "4  396.90   5.33  36.2  "
      ]
     },
     "execution_count": 39,
     "metadata": {},
     "output_type": "execute_result"
    }
   ],
   "source": [
    "bloomberg=pd.read_csv(\"/home/ajay/data science/data-master/BostonHousing.csv\")\n",
    "bloomberg.head()"
   ]
  },
  {
   "cell_type": "code",
   "execution_count": 40,
   "metadata": {},
   "outputs": [
    {
     "data": {
      "text/plain": [
       "0      24.0\n",
       "1      21.6\n",
       "2      34.7\n",
       "3      33.4\n",
       "4      36.2\n",
       "       ... \n",
       "501    22.4\n",
       "502    20.6\n",
       "503    23.9\n",
       "504    22.0\n",
       "505    11.9\n",
       "Name: medv, Length: 506, dtype: float64"
      ]
     },
     "execution_count": 40,
     "metadata": {},
     "output_type": "execute_result"
    }
   ],
   "source": [
    "y=bloomberg.medv\n",
    "y"
   ]
  },
  {
   "cell_type": "code",
   "execution_count": 41,
   "metadata": {},
   "outputs": [
    {
     "data": {
      "text/html": [
       "<div>\n",
       "<style scoped>\n",
       "    .dataframe tbody tr th:only-of-type {\n",
       "        vertical-align: middle;\n",
       "    }\n",
       "\n",
       "    .dataframe tbody tr th {\n",
       "        vertical-align: top;\n",
       "    }\n",
       "\n",
       "    .dataframe thead th {\n",
       "        text-align: right;\n",
       "    }\n",
       "</style>\n",
       "<table border=\"1\" class=\"dataframe\">\n",
       "  <thead>\n",
       "    <tr style=\"text-align: right;\">\n",
       "      <th></th>\n",
       "      <th>crim</th>\n",
       "      <th>zn</th>\n",
       "      <th>indus</th>\n",
       "      <th>chas</th>\n",
       "      <th>nox</th>\n",
       "      <th>rm</th>\n",
       "      <th>age</th>\n",
       "      <th>dis</th>\n",
       "      <th>rad</th>\n",
       "      <th>tax</th>\n",
       "      <th>ptratio</th>\n",
       "      <th>b</th>\n",
       "      <th>lstat</th>\n",
       "    </tr>\n",
       "  </thead>\n",
       "  <tbody>\n",
       "    <tr>\n",
       "      <th>0</th>\n",
       "      <td>0.00632</td>\n",
       "      <td>18.0</td>\n",
       "      <td>2.31</td>\n",
       "      <td>0</td>\n",
       "      <td>0.538</td>\n",
       "      <td>6.575</td>\n",
       "      <td>65.2</td>\n",
       "      <td>4.0900</td>\n",
       "      <td>1</td>\n",
       "      <td>296</td>\n",
       "      <td>15.3</td>\n",
       "      <td>396.90</td>\n",
       "      <td>4.98</td>\n",
       "    </tr>\n",
       "    <tr>\n",
       "      <th>1</th>\n",
       "      <td>0.02731</td>\n",
       "      <td>0.0</td>\n",
       "      <td>7.07</td>\n",
       "      <td>0</td>\n",
       "      <td>0.469</td>\n",
       "      <td>6.421</td>\n",
       "      <td>78.9</td>\n",
       "      <td>4.9671</td>\n",
       "      <td>2</td>\n",
       "      <td>242</td>\n",
       "      <td>17.8</td>\n",
       "      <td>396.90</td>\n",
       "      <td>9.14</td>\n",
       "    </tr>\n",
       "    <tr>\n",
       "      <th>2</th>\n",
       "      <td>0.02729</td>\n",
       "      <td>0.0</td>\n",
       "      <td>7.07</td>\n",
       "      <td>0</td>\n",
       "      <td>0.469</td>\n",
       "      <td>7.185</td>\n",
       "      <td>61.1</td>\n",
       "      <td>4.9671</td>\n",
       "      <td>2</td>\n",
       "      <td>242</td>\n",
       "      <td>17.8</td>\n",
       "      <td>392.83</td>\n",
       "      <td>4.03</td>\n",
       "    </tr>\n",
       "    <tr>\n",
       "      <th>3</th>\n",
       "      <td>0.03237</td>\n",
       "      <td>0.0</td>\n",
       "      <td>2.18</td>\n",
       "      <td>0</td>\n",
       "      <td>0.458</td>\n",
       "      <td>6.998</td>\n",
       "      <td>45.8</td>\n",
       "      <td>6.0622</td>\n",
       "      <td>3</td>\n",
       "      <td>222</td>\n",
       "      <td>18.7</td>\n",
       "      <td>394.63</td>\n",
       "      <td>2.94</td>\n",
       "    </tr>\n",
       "    <tr>\n",
       "      <th>4</th>\n",
       "      <td>0.06905</td>\n",
       "      <td>0.0</td>\n",
       "      <td>2.18</td>\n",
       "      <td>0</td>\n",
       "      <td>0.458</td>\n",
       "      <td>7.147</td>\n",
       "      <td>54.2</td>\n",
       "      <td>6.0622</td>\n",
       "      <td>3</td>\n",
       "      <td>222</td>\n",
       "      <td>18.7</td>\n",
       "      <td>396.90</td>\n",
       "      <td>5.33</td>\n",
       "    </tr>\n",
       "    <tr>\n",
       "      <th>...</th>\n",
       "      <td>...</td>\n",
       "      <td>...</td>\n",
       "      <td>...</td>\n",
       "      <td>...</td>\n",
       "      <td>...</td>\n",
       "      <td>...</td>\n",
       "      <td>...</td>\n",
       "      <td>...</td>\n",
       "      <td>...</td>\n",
       "      <td>...</td>\n",
       "      <td>...</td>\n",
       "      <td>...</td>\n",
       "      <td>...</td>\n",
       "    </tr>\n",
       "    <tr>\n",
       "      <th>501</th>\n",
       "      <td>0.06263</td>\n",
       "      <td>0.0</td>\n",
       "      <td>11.93</td>\n",
       "      <td>0</td>\n",
       "      <td>0.573</td>\n",
       "      <td>6.593</td>\n",
       "      <td>69.1</td>\n",
       "      <td>2.4786</td>\n",
       "      <td>1</td>\n",
       "      <td>273</td>\n",
       "      <td>21.0</td>\n",
       "      <td>391.99</td>\n",
       "      <td>9.67</td>\n",
       "    </tr>\n",
       "    <tr>\n",
       "      <th>502</th>\n",
       "      <td>0.04527</td>\n",
       "      <td>0.0</td>\n",
       "      <td>11.93</td>\n",
       "      <td>0</td>\n",
       "      <td>0.573</td>\n",
       "      <td>6.120</td>\n",
       "      <td>76.7</td>\n",
       "      <td>2.2875</td>\n",
       "      <td>1</td>\n",
       "      <td>273</td>\n",
       "      <td>21.0</td>\n",
       "      <td>396.90</td>\n",
       "      <td>9.08</td>\n",
       "    </tr>\n",
       "    <tr>\n",
       "      <th>503</th>\n",
       "      <td>0.06076</td>\n",
       "      <td>0.0</td>\n",
       "      <td>11.93</td>\n",
       "      <td>0</td>\n",
       "      <td>0.573</td>\n",
       "      <td>6.976</td>\n",
       "      <td>91.0</td>\n",
       "      <td>2.1675</td>\n",
       "      <td>1</td>\n",
       "      <td>273</td>\n",
       "      <td>21.0</td>\n",
       "      <td>396.90</td>\n",
       "      <td>5.64</td>\n",
       "    </tr>\n",
       "    <tr>\n",
       "      <th>504</th>\n",
       "      <td>0.10959</td>\n",
       "      <td>0.0</td>\n",
       "      <td>11.93</td>\n",
       "      <td>0</td>\n",
       "      <td>0.573</td>\n",
       "      <td>6.794</td>\n",
       "      <td>89.3</td>\n",
       "      <td>2.3889</td>\n",
       "      <td>1</td>\n",
       "      <td>273</td>\n",
       "      <td>21.0</td>\n",
       "      <td>393.45</td>\n",
       "      <td>6.48</td>\n",
       "    </tr>\n",
       "    <tr>\n",
       "      <th>505</th>\n",
       "      <td>0.04741</td>\n",
       "      <td>0.0</td>\n",
       "      <td>11.93</td>\n",
       "      <td>0</td>\n",
       "      <td>0.573</td>\n",
       "      <td>6.030</td>\n",
       "      <td>80.8</td>\n",
       "      <td>2.5050</td>\n",
       "      <td>1</td>\n",
       "      <td>273</td>\n",
       "      <td>21.0</td>\n",
       "      <td>396.90</td>\n",
       "      <td>7.88</td>\n",
       "    </tr>\n",
       "  </tbody>\n",
       "</table>\n",
       "<p>506 rows × 13 columns</p>\n",
       "</div>"
      ],
      "text/plain": [
       "        crim    zn  indus  chas    nox     rm   age     dis  rad  tax  \\\n",
       "0    0.00632  18.0   2.31     0  0.538  6.575  65.2  4.0900    1  296   \n",
       "1    0.02731   0.0   7.07     0  0.469  6.421  78.9  4.9671    2  242   \n",
       "2    0.02729   0.0   7.07     0  0.469  7.185  61.1  4.9671    2  242   \n",
       "3    0.03237   0.0   2.18     0  0.458  6.998  45.8  6.0622    3  222   \n",
       "4    0.06905   0.0   2.18     0  0.458  7.147  54.2  6.0622    3  222   \n",
       "..       ...   ...    ...   ...    ...    ...   ...     ...  ...  ...   \n",
       "501  0.06263   0.0  11.93     0  0.573  6.593  69.1  2.4786    1  273   \n",
       "502  0.04527   0.0  11.93     0  0.573  6.120  76.7  2.2875    1  273   \n",
       "503  0.06076   0.0  11.93     0  0.573  6.976  91.0  2.1675    1  273   \n",
       "504  0.10959   0.0  11.93     0  0.573  6.794  89.3  2.3889    1  273   \n",
       "505  0.04741   0.0  11.93     0  0.573  6.030  80.8  2.5050    1  273   \n",
       "\n",
       "     ptratio       b  lstat  \n",
       "0       15.3  396.90   4.98  \n",
       "1       17.8  396.90   9.14  \n",
       "2       17.8  392.83   4.03  \n",
       "3       18.7  394.63   2.94  \n",
       "4       18.7  396.90   5.33  \n",
       "..       ...     ...    ...  \n",
       "501     21.0  391.99   9.67  \n",
       "502     21.0  396.90   9.08  \n",
       "503     21.0  396.90   5.64  \n",
       "504     21.0  393.45   6.48  \n",
       "505     21.0  396.90   7.88  \n",
       "\n",
       "[506 rows x 13 columns]"
      ]
     },
     "execution_count": 41,
     "metadata": {},
     "output_type": "execute_result"
    }
   ],
   "source": [
    "x=bloomberg.drop(['medv'],axis=1)\n",
    "x"
   ]
  },
  {
   "cell_type": "code",
   "execution_count": 42,
   "metadata": {},
   "outputs": [],
   "source": [
    "from sklearn.model_selection import train_test_split"
   ]
  },
  {
   "cell_type": "code",
   "execution_count": 43,
   "metadata": {},
   "outputs": [],
   "source": [
    "X_train,X_test,Y_train,Y_test=train_test_split(x,y,test_size=.2)"
   ]
  },
  {
   "cell_type": "code",
   "execution_count": 44,
   "metadata": {},
   "outputs": [
    {
     "data": {
      "text/html": [
       "<div>\n",
       "<style scoped>\n",
       "    .dataframe tbody tr th:only-of-type {\n",
       "        vertical-align: middle;\n",
       "    }\n",
       "\n",
       "    .dataframe tbody tr th {\n",
       "        vertical-align: top;\n",
       "    }\n",
       "\n",
       "    .dataframe thead th {\n",
       "        text-align: right;\n",
       "    }\n",
       "</style>\n",
       "<table border=\"1\" class=\"dataframe\">\n",
       "  <thead>\n",
       "    <tr style=\"text-align: right;\">\n",
       "      <th></th>\n",
       "      <th>crim</th>\n",
       "      <th>zn</th>\n",
       "      <th>indus</th>\n",
       "      <th>chas</th>\n",
       "      <th>nox</th>\n",
       "      <th>rm</th>\n",
       "      <th>age</th>\n",
       "      <th>dis</th>\n",
       "      <th>rad</th>\n",
       "      <th>tax</th>\n",
       "      <th>ptratio</th>\n",
       "      <th>b</th>\n",
       "      <th>lstat</th>\n",
       "    </tr>\n",
       "  </thead>\n",
       "  <tbody>\n",
       "    <tr>\n",
       "      <th>41</th>\n",
       "      <td>0.12744</td>\n",
       "      <td>0.0</td>\n",
       "      <td>6.91</td>\n",
       "      <td>0</td>\n",
       "      <td>0.448</td>\n",
       "      <td>6.770</td>\n",
       "      <td>2.9</td>\n",
       "      <td>5.7209</td>\n",
       "      <td>3</td>\n",
       "      <td>233</td>\n",
       "      <td>17.9</td>\n",
       "      <td>385.41</td>\n",
       "      <td>4.84</td>\n",
       "    </tr>\n",
       "    <tr>\n",
       "      <th>122</th>\n",
       "      <td>0.09299</td>\n",
       "      <td>0.0</td>\n",
       "      <td>25.65</td>\n",
       "      <td>0</td>\n",
       "      <td>0.581</td>\n",
       "      <td>5.961</td>\n",
       "      <td>92.9</td>\n",
       "      <td>2.0869</td>\n",
       "      <td>2</td>\n",
       "      <td>188</td>\n",
       "      <td>19.1</td>\n",
       "      <td>378.09</td>\n",
       "      <td>17.93</td>\n",
       "    </tr>\n",
       "    <tr>\n",
       "      <th>198</th>\n",
       "      <td>0.03768</td>\n",
       "      <td>80.0</td>\n",
       "      <td>1.52</td>\n",
       "      <td>0</td>\n",
       "      <td>0.404</td>\n",
       "      <td>7.274</td>\n",
       "      <td>38.3</td>\n",
       "      <td>7.3090</td>\n",
       "      <td>2</td>\n",
       "      <td>329</td>\n",
       "      <td>12.6</td>\n",
       "      <td>392.20</td>\n",
       "      <td>6.62</td>\n",
       "    </tr>\n",
       "    <tr>\n",
       "      <th>189</th>\n",
       "      <td>0.08370</td>\n",
       "      <td>45.0</td>\n",
       "      <td>3.44</td>\n",
       "      <td>0</td>\n",
       "      <td>0.437</td>\n",
       "      <td>7.185</td>\n",
       "      <td>38.9</td>\n",
       "      <td>4.5667</td>\n",
       "      <td>5</td>\n",
       "      <td>398</td>\n",
       "      <td>15.2</td>\n",
       "      <td>396.90</td>\n",
       "      <td>5.39</td>\n",
       "    </tr>\n",
       "    <tr>\n",
       "      <th>374</th>\n",
       "      <td>18.49820</td>\n",
       "      <td>0.0</td>\n",
       "      <td>18.10</td>\n",
       "      <td>0</td>\n",
       "      <td>0.668</td>\n",
       "      <td>4.138</td>\n",
       "      <td>100.0</td>\n",
       "      <td>1.1370</td>\n",
       "      <td>24</td>\n",
       "      <td>666</td>\n",
       "      <td>20.2</td>\n",
       "      <td>396.90</td>\n",
       "      <td>37.97</td>\n",
       "    </tr>\n",
       "  </tbody>\n",
       "</table>\n",
       "</div>"
      ],
      "text/plain": [
       "         crim    zn  indus  chas    nox     rm    age     dis  rad  tax  \\\n",
       "41    0.12744   0.0   6.91     0  0.448  6.770    2.9  5.7209    3  233   \n",
       "122   0.09299   0.0  25.65     0  0.581  5.961   92.9  2.0869    2  188   \n",
       "198   0.03768  80.0   1.52     0  0.404  7.274   38.3  7.3090    2  329   \n",
       "189   0.08370  45.0   3.44     0  0.437  7.185   38.9  4.5667    5  398   \n",
       "374  18.49820   0.0  18.10     0  0.668  4.138  100.0  1.1370   24  666   \n",
       "\n",
       "     ptratio       b  lstat  \n",
       "41      17.9  385.41   4.84  \n",
       "122     19.1  378.09  17.93  \n",
       "198     12.6  392.20   6.62  \n",
       "189     15.2  396.90   5.39  \n",
       "374     20.2  396.90  37.97  "
      ]
     },
     "execution_count": 44,
     "metadata": {},
     "output_type": "execute_result"
    }
   ],
   "source": [
    "X_train.head()"
   ]
  },
  {
   "cell_type": "code",
   "execution_count": 47,
   "metadata": {},
   "outputs": [
    {
     "data": {
      "text/plain": [
       "((404, 13), (102, 13))"
      ]
     },
     "execution_count": 47,
     "metadata": {},
     "output_type": "execute_result"
    }
   ],
   "source": [
    "X_train.shape,X_test.shape"
   ]
  },
  {
   "cell_type": "code",
   "execution_count": 49,
   "metadata": {},
   "outputs": [
    {
     "data": {
      "text/plain": [
       "((404,), (102,))"
      ]
     },
     "execution_count": 49,
     "metadata": {},
     "output_type": "execute_result"
    }
   ],
   "source": [
    "Y_train.shape,Y_test.shape"
   ]
  },
  {
   "cell_type": "code",
   "execution_count": 50,
   "metadata": {},
   "outputs": [],
   "source": [
    "from sklearn import linear_model\n",
    "from sklearn.metrics import mean_squared_error,r2_score"
   ]
  },
  {
   "cell_type": "code",
   "execution_count": 53,
   "metadata": {},
   "outputs": [],
   "source": [
    "model=linear_model.LinearRegression()\n"
   ]
  },
  {
   "cell_type": "code",
   "execution_count": 54,
   "metadata": {},
   "outputs": [
    {
     "data": {
      "text/plain": [
       "LinearRegression()"
      ]
     },
     "execution_count": 54,
     "metadata": {},
     "output_type": "execute_result"
    }
   ],
   "source": [
    "model.fit(X_train,Y_train)"
   ]
  },
  {
   "cell_type": "code",
   "execution_count": 55,
   "metadata": {},
   "outputs": [
    {
     "data": {
      "text/plain": [
       "array([14.91796008, 36.47179249, 32.36354742, 16.69180512, 23.96025349,\n",
       "       28.2007553 , 16.50218965, 20.06876319, 35.17986326, 15.34458086,\n",
       "       33.69221851, 33.96408246,  6.99200427, 22.8945614 , 25.07835327,\n",
       "       27.01029064, 16.19216342, 38.72074684, 22.6041023 , 24.26719069,\n",
       "       20.31046809, 24.98480954, 24.93848703, 36.54249806, 17.93938195,\n",
       "       22.52030748, 32.88169586, 32.02003742, 37.5398414 , 28.36956989,\n",
       "       18.38202693, 36.1249311 , 22.37033614, 12.48605971,  8.35931991,\n",
       "       21.31936269, 20.62794752, 19.15534477, 18.56445066, 19.74956797,\n",
       "       18.51504461, 30.72149324, 22.11202657, 18.78029236, 36.75984173,\n",
       "       28.212612  , 12.40245364, 13.97932013, 30.57998657, 20.78335971,\n",
       "       21.91967653, 19.24584704, 32.64611546, 23.1145218 , 23.24982315,\n",
       "       33.03032841, 28.85635726, 28.6085901 , 16.23440508, 21.56272084,\n",
       "       25.37073484, 40.24571884, 24.97008657, 24.26646182, 29.91653212,\n",
       "       21.85790165, 28.38824219, 30.32325111, 23.39088828, 34.98722819,\n",
       "       16.65136754,  9.47256599, 24.79140968,  8.7403087 , 23.17143449,\n",
       "       26.65558914, 19.94202497, 23.80455498, 15.8077851 , 36.99375017,\n",
       "       27.35336275, 15.82739285, 19.47394848, 22.7578715 , 23.49723012,\n",
       "       15.90752856, 21.12870666, 10.19177172, 20.54135941,  3.88244719,\n",
       "       19.3891428 , 37.84378042, 20.33460931, 11.38814733, 26.390676  ,\n",
       "       44.85629828, 16.89321501,  5.27802372, 25.45993661, 24.81342312,\n",
       "       23.14231086, 31.90766482])"
      ]
     },
     "execution_count": 55,
     "metadata": {},
     "output_type": "execute_result"
    }
   ],
   "source": [
    "y_pred=model.predict(X_test)\n",
    "y_pred"
   ]
  },
  {
   "cell_type": "code",
   "execution_count": 59,
   "metadata": {},
   "outputs": [
    {
     "name": "stdout",
     "output_type": "stream",
     "text": [
      "coefficient: [-8.74862364e-02  3.74103344e-02  1.47376458e-02  3.56448984e+00\n",
      " -1.82204784e+01  3.80739926e+00 -4.53305269e-03 -1.39659256e+00\n",
      "  2.85731530e-01 -1.19985714e-02 -9.50096563e-01  1.05208227e-02\n",
      " -4.72940239e-01]\n",
      "intercept : 35.72470763520152\n"
     ]
    }
   ],
   "source": [
    "print(\"coefficient:\",model.coef_)\n",
    "print(\"intercept :\",model.intercept_)"
   ]
  },
  {
   "cell_type": "code",
   "execution_count": 60,
   "metadata": {},
   "outputs": [
    {
     "name": "stdout",
     "output_type": "stream",
     "text": [
      "mean square error (MSE): 22.4462\n",
      "coefficient of determinaton:0.7809\n"
     ]
    }
   ],
   "source": [
    "print(\"mean square error (MSE): %.4f\"%mean_squared_error(Y_test,y_pred))\n",
    "print(\"coefficient of determinaton:%.4f\"%r2_score(Y_test,y_pred))"
   ]
  },
  {
   "cell_type": "code",
   "execution_count": 61,
   "metadata": {},
   "outputs": [
    {
     "data": {
      "text/plain": [
       "array([14.91796008, 36.47179249, 32.36354742, 16.69180512, 23.96025349,\n",
       "       28.2007553 , 16.50218965, 20.06876319, 35.17986326, 15.34458086,\n",
       "       33.69221851, 33.96408246,  6.99200427, 22.8945614 , 25.07835327,\n",
       "       27.01029064, 16.19216342, 38.72074684, 22.6041023 , 24.26719069,\n",
       "       20.31046809, 24.98480954, 24.93848703, 36.54249806, 17.93938195,\n",
       "       22.52030748, 32.88169586, 32.02003742, 37.5398414 , 28.36956989,\n",
       "       18.38202693, 36.1249311 , 22.37033614, 12.48605971,  8.35931991,\n",
       "       21.31936269, 20.62794752, 19.15534477, 18.56445066, 19.74956797,\n",
       "       18.51504461, 30.72149324, 22.11202657, 18.78029236, 36.75984173,\n",
       "       28.212612  , 12.40245364, 13.97932013, 30.57998657, 20.78335971,\n",
       "       21.91967653, 19.24584704, 32.64611546, 23.1145218 , 23.24982315,\n",
       "       33.03032841, 28.85635726, 28.6085901 , 16.23440508, 21.56272084,\n",
       "       25.37073484, 40.24571884, 24.97008657, 24.26646182, 29.91653212,\n",
       "       21.85790165, 28.38824219, 30.32325111, 23.39088828, 34.98722819,\n",
       "       16.65136754,  9.47256599, 24.79140968,  8.7403087 , 23.17143449,\n",
       "       26.65558914, 19.94202497, 23.80455498, 15.8077851 , 36.99375017,\n",
       "       27.35336275, 15.82739285, 19.47394848, 22.7578715 , 23.49723012,\n",
       "       15.90752856, 21.12870666, 10.19177172, 20.54135941,  3.88244719,\n",
       "       19.3891428 , 37.84378042, 20.33460931, 11.38814733, 26.390676  ,\n",
       "       44.85629828, 16.89321501,  5.27802372, 25.45993661, 24.81342312,\n",
       "       23.14231086, 31.90766482])"
      ]
     },
     "execution_count": 61,
     "metadata": {},
     "output_type": "execute_result"
    }
   ],
   "source": [
    "y_pred"
   ]
  },
  {
   "cell_type": "code",
   "execution_count": 62,
   "metadata": {},
   "outputs": [
    {
     "data": {
      "text/plain": [
       "27     14.8\n",
       "166    50.0\n",
       "234    29.0\n",
       "123    17.3\n",
       "212    22.4\n",
       "       ... \n",
       "438     8.4\n",
       "42     25.3\n",
       "321    23.1\n",
       "357    21.7\n",
       "193    31.1\n",
       "Name: medv, Length: 102, dtype: float64"
      ]
     },
     "execution_count": 62,
     "metadata": {},
     "output_type": "execute_result"
    }
   ],
   "source": [
    "Y_test"
   ]
  },
  {
   "cell_type": "code",
   "execution_count": 63,
   "metadata": {},
   "outputs": [
    {
     "data": {
      "text/plain": [
       "<matplotlib.axes._subplots.AxesSubplot at 0x7f99153a37c0>"
      ]
     },
     "execution_count": 63,
     "metadata": {},
     "output_type": "execute_result"
    },
    {
     "data": {
      "image/png": "[encoded data removed]",
      "text/plain": [
       "<Figure size 432x288 with 1 Axes>"
      ]
     },
     "metadata": {
      "needs_background": "light"
     },
     "output_type": "display_data"
    }
   ],
   "source": [
    "sns.scatterplot(y_pred,Y_test)"
   ]
  },
  {
   "cell_type": "code",
   "execution_count": 66,
   "metadata": {},
   "outputs": [
    {
     "data": {
      "text/plain": [
       "<matplotlib.axes._subplots.AxesSubplot at 0x7f991511dc10>"
      ]
     },
     "execution_count": 66,
     "metadata": {},
     "output_type": "execute_result"
    },
    {
     "data": {
      "image/png": "[encoded data removed]",
      "text/plain": [
       "<Figure size 432x288 with 1 Axes>"
      ]
     },
     "metadata": {
      "needs_background": "light"
     },
     "output_type": "display_data"
    }
   ],
   "source": [
    "sns.scatterplot(y_pred,Y_test,marker=\"+\")"
   ]
  },
  {
   "cell_type": "code",
   "execution_count": 67,
   "metadata": {},
   "outputs": [
    {
     "data": {
      "text/plain": [
       "<matplotlib.axes._subplots.AxesSubplot at 0x7f991574c400>"
      ]
     },
     "execution_count": 67,
     "metadata": {},
     "output_type": "execute_result"
    },
    {
     "data": {
      "image/png": "[encoded data removed]",
      "text/plain": [
       "<Figure size 432x288 with 1 Axes>"
      ]
     },
     "metadata": {
      "needs_background": "light"
     },
     "output_type": "display_data"
    }
   ],
   "source": [
    "sns.scatterplot(y_pred,Y_test,alpha=.5)"
   ]
  },
  {
   "cell_type": "code",
   "execution_count": null,
   "metadata": {},
   "outputs": [],
   "source": []
  }
 ],
 "metadata": {
  "kernelspec": {
   "display_name": "Python 3",
   "language": "python",
   "name": "python3"
  },
  "language_info": {
   "codemirror_mode": {
    "name": "ipython",
    "version": 3
   },
   "file_extension": ".py",
   "mimetype": "text/x-python",
   "name": "python",
   "nbconvert_exporter": "python",
   "pygments_lexer": "ipython3",
   "version": "3.8.3"
  }
 },
 "nbformat": 4,
 "nbformat_minor": 4
}
