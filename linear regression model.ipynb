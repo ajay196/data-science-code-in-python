{
 "cells": [
  {
   "cell_type": "code",
   "execution_count": 1,
   "metadata": {},
   "outputs": [],
   "source": [
    "import numpy as np\n",
    "import pandas as pd\n",
    "import seaborn as sns\n",
    "import matplotlib.pyplot as plt"
   ]
  },
  {
   "cell_type": "code",
   "execution_count": 2,
   "metadata": {},
   "outputs": [
    {
     "data": {
      "text/html": [
       "<div>\n",
       "<style scoped>\n",
       "    .dataframe tbody tr th:only-of-type {\n",
       "        vertical-align: middle;\n",
       "    }\n",
       "\n",
       "    .dataframe tbody tr th {\n",
       "        vertical-align: top;\n",
       "    }\n",
       "\n",
       "    .dataframe thead th {\n",
       "        text-align: right;\n",
       "    }\n",
       "</style>\n",
       "<table border=\"1\" class=\"dataframe\">\n",
       "  <thead>\n",
       "    <tr style=\"text-align: right;\">\n",
       "      <th></th>\n",
       "      <th>Frquency(Hz)</th>\n",
       "      <th>Angle_of_Attack</th>\n",
       "      <th>Chord_Length</th>\n",
       "      <th>Free_stream_velocity</th>\n",
       "      <th>Displacement</th>\n",
       "      <th>Sound_pressure_level</th>\n",
       "    </tr>\n",
       "  </thead>\n",
       "  <tbody>\n",
       "    <tr>\n",
       "      <th>0</th>\n",
       "      <td>800</td>\n",
       "      <td>0.0</td>\n",
       "      <td>0.3048</td>\n",
       "      <td>71.3</td>\n",
       "      <td>0.002663</td>\n",
       "      <td>126.201</td>\n",
       "    </tr>\n",
       "    <tr>\n",
       "      <th>1</th>\n",
       "      <td>1000</td>\n",
       "      <td>0.0</td>\n",
       "      <td>0.3048</td>\n",
       "      <td>71.3</td>\n",
       "      <td>0.002663</td>\n",
       "      <td>125.201</td>\n",
       "    </tr>\n",
       "    <tr>\n",
       "      <th>2</th>\n",
       "      <td>1250</td>\n",
       "      <td>0.0</td>\n",
       "      <td>0.3048</td>\n",
       "      <td>71.3</td>\n",
       "      <td>0.002663</td>\n",
       "      <td>125.951</td>\n",
       "    </tr>\n",
       "    <tr>\n",
       "      <th>3</th>\n",
       "      <td>1600</td>\n",
       "      <td>0.0</td>\n",
       "      <td>0.3048</td>\n",
       "      <td>71.3</td>\n",
       "      <td>0.002663</td>\n",
       "      <td>127.591</td>\n",
       "    </tr>\n",
       "    <tr>\n",
       "      <th>4</th>\n",
       "      <td>2000</td>\n",
       "      <td>0.0</td>\n",
       "      <td>0.3048</td>\n",
       "      <td>71.3</td>\n",
       "      <td>0.002663</td>\n",
       "      <td>127.461</td>\n",
       "    </tr>\n",
       "  </tbody>\n",
       "</table>\n",
       "</div>"
      ],
      "text/plain": [
       "   Frquency(Hz)  Angle_of_Attack  Chord_Length  Free_stream_velocity  \\\n",
       "0           800              0.0        0.3048                  71.3   \n",
       "1          1000              0.0        0.3048                  71.3   \n",
       "2          1250              0.0        0.3048                  71.3   \n",
       "3          1600              0.0        0.3048                  71.3   \n",
       "4          2000              0.0        0.3048                  71.3   \n",
       "\n",
       "   Displacement  Sound_pressure_level  \n",
       "0      0.002663               126.201  \n",
       "1      0.002663               125.201  \n",
       "2      0.002663               125.951  \n",
       "3      0.002663               127.591  \n",
       "4      0.002663               127.461  "
      ]
     },
     "execution_count": 2,
     "metadata": {},
     "output_type": "execute_result"
    }
   ],
   "source": [
    "df=pd.read_csv(\"/home/ajay/data science/airfoil_self_noise.csv\")\n",
    "df.head()"
   ]
  },
  {
   "cell_type": "code",
   "execution_count": 3,
   "metadata": {},
   "outputs": [
    {
     "name": "stdout",
     "output_type": "stream",
     "text": [
      "<class 'pandas.core.frame.DataFrame'>\n",
      "RangeIndex: 1503 entries, 0 to 1502\n",
      "Data columns (total 6 columns):\n",
      " #   Column                Non-Null Count  Dtype  \n",
      "---  ------                --------------  -----  \n",
      " 0   Frquency(Hz)          1503 non-null   int64  \n",
      " 1   Angle_of_Attack       1503 non-null   float64\n",
      " 2   Chord_Length          1503 non-null   float64\n",
      " 3   Free_stream_velocity  1503 non-null   float64\n",
      " 4   Displacement          1503 non-null   float64\n",
      " 5   Sound_pressure_level  1503 non-null   float64\n",
      "dtypes: float64(5), int64(1)\n",
      "memory usage: 70.6 KB\n"
     ]
    }
   ],
   "source": [
    "df.info()"
   ]
  },
  {
   "cell_type": "code",
   "execution_count": 4,
   "metadata": {},
   "outputs": [
    {
     "data": {
      "text/plain": [
       "Frquency(Hz)            1503\n",
       "Angle_of_Attack         1503\n",
       "Chord_Length            1503\n",
       "Free_stream_velocity    1503\n",
       "Displacement            1503\n",
       "Sound_pressure_level    1503\n",
       "dtype: int64"
      ]
     },
     "execution_count": 4,
     "metadata": {},
     "output_type": "execute_result"
    }
   ],
   "source": [
    "df.isna().count()"
   ]
  },
  {
   "cell_type": "code",
   "execution_count": 5,
   "metadata": {},
   "outputs": [
    {
     "data": {
      "text/html": [
       "<div>\n",
       "<style scoped>\n",
       "    .dataframe tbody tr th:only-of-type {\n",
       "        vertical-align: middle;\n",
       "    }\n",
       "\n",
       "    .dataframe tbody tr th {\n",
       "        vertical-align: top;\n",
       "    }\n",
       "\n",
       "    .dataframe thead th {\n",
       "        text-align: right;\n",
       "    }\n",
       "</style>\n",
       "<table border=\"1\" class=\"dataframe\">\n",
       "  <thead>\n",
       "    <tr style=\"text-align: right;\">\n",
       "      <th></th>\n",
       "      <th>Frquency(Hz)</th>\n",
       "      <th>Angle_of_Attack</th>\n",
       "      <th>Chord_Length</th>\n",
       "      <th>Free_stream_velocity</th>\n",
       "      <th>Displacement</th>\n",
       "      <th>Sound_pressure_level</th>\n",
       "    </tr>\n",
       "  </thead>\n",
       "  <tbody>\n",
       "    <tr>\n",
       "      <th>Frquency(Hz)</th>\n",
       "      <td>1.000000</td>\n",
       "      <td>-0.272765</td>\n",
       "      <td>-0.003661</td>\n",
       "      <td>0.133664</td>\n",
       "      <td>-0.230107</td>\n",
       "      <td>-0.390711</td>\n",
       "    </tr>\n",
       "    <tr>\n",
       "      <th>Angle_of_Attack</th>\n",
       "      <td>-0.272765</td>\n",
       "      <td>1.000000</td>\n",
       "      <td>-0.504868</td>\n",
       "      <td>0.058760</td>\n",
       "      <td>0.753394</td>\n",
       "      <td>-0.156108</td>\n",
       "    </tr>\n",
       "    <tr>\n",
       "      <th>Chord_Length</th>\n",
       "      <td>-0.003661</td>\n",
       "      <td>-0.504868</td>\n",
       "      <td>1.000000</td>\n",
       "      <td>0.003787</td>\n",
       "      <td>-0.220842</td>\n",
       "      <td>-0.236162</td>\n",
       "    </tr>\n",
       "    <tr>\n",
       "      <th>Free_stream_velocity</th>\n",
       "      <td>0.133664</td>\n",
       "      <td>0.058760</td>\n",
       "      <td>0.003787</td>\n",
       "      <td>1.000000</td>\n",
       "      <td>-0.003974</td>\n",
       "      <td>0.125103</td>\n",
       "    </tr>\n",
       "    <tr>\n",
       "      <th>Displacement</th>\n",
       "      <td>-0.230107</td>\n",
       "      <td>0.753394</td>\n",
       "      <td>-0.220842</td>\n",
       "      <td>-0.003974</td>\n",
       "      <td>1.000000</td>\n",
       "      <td>-0.312670</td>\n",
       "    </tr>\n",
       "    <tr>\n",
       "      <th>Sound_pressure_level</th>\n",
       "      <td>-0.390711</td>\n",
       "      <td>-0.156108</td>\n",
       "      <td>-0.236162</td>\n",
       "      <td>0.125103</td>\n",
       "      <td>-0.312670</td>\n",
       "      <td>1.000000</td>\n",
       "    </tr>\n",
       "  </tbody>\n",
       "</table>\n",
       "</div>"
      ],
      "text/plain": [
       "                      Frquency(Hz)  Angle_of_Attack  Chord_Length  \\\n",
       "Frquency(Hz)              1.000000        -0.272765     -0.003661   \n",
       "Angle_of_Attack          -0.272765         1.000000     -0.504868   \n",
       "Chord_Length             -0.003661        -0.504868      1.000000   \n",
       "Free_stream_velocity      0.133664         0.058760      0.003787   \n",
       "Displacement             -0.230107         0.753394     -0.220842   \n",
       "Sound_pressure_level     -0.390711        -0.156108     -0.236162   \n",
       "\n",
       "                      Free_stream_velocity  Displacement  Sound_pressure_level  \n",
       "Frquency(Hz)                      0.133664     -0.230107             -0.390711  \n",
       "Angle_of_Attack                   0.058760      0.753394             -0.156108  \n",
       "Chord_Length                      0.003787     -0.220842             -0.236162  \n",
       "Free_stream_velocity              1.000000     -0.003974              0.125103  \n",
       "Displacement                     -0.003974      1.000000             -0.312670  \n",
       "Sound_pressure_level              0.125103     -0.312670              1.000000  "
      ]
     },
     "execution_count": 5,
     "metadata": {},
     "output_type": "execute_result"
    }
   ],
   "source": [
    "correlation=df.corr()\n",
    "correlation"
   ]
  },
  {
   "cell_type": "code",
   "execution_count": 6,
   "metadata": {},
   "outputs": [
    {
     "data": {
      "image/png": "[encoded data removed]",
      "text/plain": [
       "<Figure size 432x288 with 2 Axes>"
      ]
     },
     "metadata": {
      "needs_background": "light"
     },
     "output_type": "display_data"
    }
   ],
   "source": [
    "sns.heatmap(correlation,annot=True)\n",
    "plt.show()"
   ]
  },
  {
   "cell_type": "code",
   "execution_count": 7,
   "metadata": {},
   "outputs": [],
   "source": [
    "from sklearn.model_selection import train_test_split\n",
    "from sklearn import linear_model\n",
    "from sklearn.metrics import mean_squared_error,r2_score"
   ]
  },
  {
   "cell_type": "code",
   "execution_count": 8,
   "metadata": {},
   "outputs": [
    {
     "data": {
      "text/plain": [
       "0       126.201\n",
       "1       125.201\n",
       "2       125.951\n",
       "3       127.591\n",
       "4       127.461\n",
       "         ...   \n",
       "1498    110.264\n",
       "1499    109.254\n",
       "1500    106.604\n",
       "1501    106.224\n",
       "1502    104.204\n",
       "Name: Sound_pressure_level, Length: 1503, dtype: float64"
      ]
     },
     "execution_count": 8,
     "metadata": {},
     "output_type": "execute_result"
    }
   ],
   "source": [
    "y=df.Sound_pressure_level\n",
    "x=df.drop(['Sound_pressure_level'],axis=1)\n",
    "y"
   ]
  },
  {
   "cell_type": "code",
   "execution_count": 9,
   "metadata": {},
   "outputs": [
    {
     "data": {
      "text/html": [
       "<div>\n",
       "<style scoped>\n",
       "    .dataframe tbody tr th:only-of-type {\n",
       "        vertical-align: middle;\n",
       "    }\n",
       "\n",
       "    .dataframe tbody tr th {\n",
       "        vertical-align: top;\n",
       "    }\n",
       "\n",
       "    .dataframe thead th {\n",
       "        text-align: right;\n",
       "    }\n",
       "</style>\n",
       "<table border=\"1\" class=\"dataframe\">\n",
       "  <thead>\n",
       "    <tr style=\"text-align: right;\">\n",
       "      <th></th>\n",
       "      <th>Frquency(Hz)</th>\n",
       "      <th>Angle_of_Attack</th>\n",
       "      <th>Chord_Length</th>\n",
       "      <th>Free_stream_velocity</th>\n",
       "      <th>Displacement</th>\n",
       "    </tr>\n",
       "  </thead>\n",
       "  <tbody>\n",
       "    <tr>\n",
       "      <th>0</th>\n",
       "      <td>800</td>\n",
       "      <td>0.0</td>\n",
       "      <td>0.3048</td>\n",
       "      <td>71.3</td>\n",
       "      <td>0.002663</td>\n",
       "    </tr>\n",
       "    <tr>\n",
       "      <th>1</th>\n",
       "      <td>1000</td>\n",
       "      <td>0.0</td>\n",
       "      <td>0.3048</td>\n",
       "      <td>71.3</td>\n",
       "      <td>0.002663</td>\n",
       "    </tr>\n",
       "    <tr>\n",
       "      <th>2</th>\n",
       "      <td>1250</td>\n",
       "      <td>0.0</td>\n",
       "      <td>0.3048</td>\n",
       "      <td>71.3</td>\n",
       "      <td>0.002663</td>\n",
       "    </tr>\n",
       "    <tr>\n",
       "      <th>3</th>\n",
       "      <td>1600</td>\n",
       "      <td>0.0</td>\n",
       "      <td>0.3048</td>\n",
       "      <td>71.3</td>\n",
       "      <td>0.002663</td>\n",
       "    </tr>\n",
       "    <tr>\n",
       "      <th>4</th>\n",
       "      <td>2000</td>\n",
       "      <td>0.0</td>\n",
       "      <td>0.3048</td>\n",
       "      <td>71.3</td>\n",
       "      <td>0.002663</td>\n",
       "    </tr>\n",
       "  </tbody>\n",
       "</table>\n",
       "</div>"
      ],
      "text/plain": [
       "   Frquency(Hz)  Angle_of_Attack  Chord_Length  Free_stream_velocity  \\\n",
       "0           800              0.0        0.3048                  71.3   \n",
       "1          1000              0.0        0.3048                  71.3   \n",
       "2          1250              0.0        0.3048                  71.3   \n",
       "3          1600              0.0        0.3048                  71.3   \n",
       "4          2000              0.0        0.3048                  71.3   \n",
       "\n",
       "   Displacement  \n",
       "0      0.002663  \n",
       "1      0.002663  \n",
       "2      0.002663  \n",
       "3      0.002663  \n",
       "4      0.002663  "
      ]
     },
     "execution_count": 9,
     "metadata": {},
     "output_type": "execute_result"
    }
   ],
   "source": [
    "x.head()"
   ]
  },
  {
   "cell_type": "code",
   "execution_count": 10,
   "metadata": {},
   "outputs": [],
   "source": [
    "x_train,x_test,y_train,y_test=train_test_split(x,y,test_size=.1)"
   ]
  },
  {
   "cell_type": "code",
   "execution_count": 11,
   "metadata": {},
   "outputs": [
    {
     "data": {
      "text/plain": [
       "LinearRegression()"
      ]
     },
     "execution_count": 11,
     "metadata": {},
     "output_type": "execute_result"
    }
   ],
   "source": [
    "model=linear_model.LinearRegression()\n",
    "model.fit(x_train,y_train)"
   ]
  },
  {
   "cell_type": "code",
   "execution_count": 12,
   "metadata": {},
   "outputs": [],
   "source": [
    "model_pred=model.predict(x_test)"
   ]
  },
  {
   "cell_type": "code",
   "execution_count": 13,
   "metadata": {},
   "outputs": [
    {
     "data": {
      "text/plain": [
       "array([129.30948798, 122.51097534, 121.43650598, 124.06384432,\n",
       "       123.00675267, 128.50801359, 122.06679887, 119.88883684,\n",
       "       125.90134344, 124.31784392, 127.12270781, 125.81534396,\n",
       "       118.66225066, 121.39674654, 122.61241096, 131.77674249,\n",
       "       124.75445969, 117.64565952, 121.21323263, 127.14128854,\n",
       "       116.8654661 , 128.92704762, 125.89465193, 111.23724271,\n",
       "       128.2734191 , 123.45574077, 115.84957195, 120.23161649,\n",
       "       121.84329243, 127.18343514, 120.66167828, 123.14706054,\n",
       "       117.93752846, 122.14887753, 126.48962761, 126.95567667,\n",
       "       120.24155479, 132.87114976, 122.87009425, 121.22713506,\n",
       "       128.00802643, 129.91473593, 125.01875354, 119.05054199,\n",
       "       107.32317722, 124.99681999, 131.40999462, 119.63556141,\n",
       "       126.67226989, 126.7473109 , 129.07333919, 120.97164491,\n",
       "       130.90396625, 124.1558223 , 126.02073642, 130.23612521,\n",
       "       124.41703333, 129.49571756, 126.36311664, 129.37303092,\n",
       "       112.56687078, 124.73194983, 117.65478364, 127.1481194 ,\n",
       "       125.87914902, 129.95369619, 119.83596744, 129.73405241,\n",
       "       119.79597457, 121.9500947 , 125.88640256, 114.56331463,\n",
       "       122.4919005 , 125.52697629, 129.96536473, 130.51568173,\n",
       "       128.89812339, 118.69545508, 123.38477791, 126.34965796,\n",
       "       123.13363667, 119.55216963, 115.4007853 , 119.33791504,\n",
       "       124.14048679, 129.99709944, 126.61060976, 125.64870074,\n",
       "       114.4502497 , 126.02755385, 127.63761613, 118.87532044,\n",
       "       131.83865391, 123.47878105, 121.44664079, 128.89453851,\n",
       "       128.09165136, 120.86643675, 126.14456105, 122.28411146,\n",
       "       133.8376809 , 115.36239663, 125.75778472, 128.74821721,\n",
       "       127.92203381, 118.90165702, 126.69298005, 130.73471252,\n",
       "       108.92408399, 132.64499958, 123.65930573, 122.18074822,\n",
       "       113.43354146, 122.36139657, 130.46818488, 119.77890644,\n",
       "       124.95040664, 118.10645979, 130.95891893, 123.44966373,\n",
       "       124.22377014, 123.4174189 , 127.30878268, 130.87162155,\n",
       "       123.84422334, 129.38213879, 115.89553653, 128.81015527,\n",
       "       127.44531974, 134.95490227, 129.84411786, 129.09854353,\n",
       "       126.34247036, 120.35606196, 129.88393963, 124.56026695,\n",
       "       123.90166603, 116.33913745, 131.48628569, 131.74383735,\n",
       "       128.66936434, 127.37219286, 134.50219403, 124.54082194,\n",
       "       123.5791044 , 120.51812666, 125.80320649, 132.94409308,\n",
       "       120.66832855, 120.52003931, 126.0541205 ])"
      ]
     },
     "execution_count": 13,
     "metadata": {},
     "output_type": "execute_result"
    }
   ],
   "source": [
    "model_pred"
   ]
  },
  {
   "cell_type": "code",
   "execution_count": 14,
   "metadata": {},
   "outputs": [
    {
     "name": "stdout",
     "output_type": "stream",
     "text": [
      "model coefficient: [-1.28841642e-03 -4.16889549e-01 -3.59835769e+01  9.76209757e-02\n",
      " -1.54707573e+02]\n",
      "model intercept: 133.09153820032537\n"
     ]
    }
   ],
   "source": [
    "print(\"model coefficient:\",model.coef_)\n",
    "print(\"model intercept:\",model.intercept_)"
   ]
  },
  {
   "cell_type": "code",
   "execution_count": 15,
   "metadata": {},
   "outputs": [
    {
     "name": "stdout",
     "output_type": "stream",
     "text": [
      "mean square value (MSV):24.8381\n",
      "cofficient of determinaton :0.4618\n"
     ]
    }
   ],
   "source": [
    "print(\"mean square value (MSV):%.4f\"%mean_squared_error(y_test,model_pred))\n",
    "print(\"cofficient of determinaton :%.4f\"%r2_score(y_test,model_pred))"
   ]
  },
  {
   "cell_type": "code",
   "execution_count": 16,
   "metadata": {},
   "outputs": [
    {
     "data": {
      "text/plain": [
       "<matplotlib.axes._subplots.AxesSubplot at 0x7f926fef44f0>"
      ]
     },
     "execution_count": 16,
     "metadata": {},
     "output_type": "execute_result"
    },
    {
     "data": {
      "image/png": "[encoded data removed]",
      "text/plain": [
       "<Figure size 432x288 with 1 Axes>"
      ]
     },
     "metadata": {
      "needs_background": "light"
     },
     "output_type": "display_data"
    }
   ],
   "source": [
    "sns.scatterplot(y_test,model_pred,alpha=.5)"
   ]
  },
  {
   "cell_type": "code",
   "execution_count": null,
   "metadata": {},
   "outputs": [],
   "source": []
  }
 ],
 "metadata": {
  "kernelspec": {
   "display_name": "Python 3",
   "language": "python",
   "name": "python3"
  },
  "language_info": {
   "codemirror_mode": {
    "name": "ipython",
    "version": 3
   },
   "file_extension": ".py",
   "mimetype": "text/x-python",
   "name": "python",
   "nbconvert_exporter": "python",
   "pygments_lexer": "ipython3",
   "version": "3.8.3"
  }
 },
 "nbformat": 4,
 "nbformat_minor": 4
}
